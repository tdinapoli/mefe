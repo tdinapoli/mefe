{
  "cells": [
    {
      "cell_type": "markdown",
      "id": "b604d66f",
      "metadata": {
        "id": "b604d66f"
      },
      "source": [
        "El 1% de una población tiene planeado votar un cierto candidato A. Se realiza una encuesta tomando n = 500\n",
        "habitantes al azar. ¿Cuál es la probabilidad de que el resultado de intención de voto para A sea mayor o igual que el 2%? Dicho de otra manera, ¿cuál es la probabilidad de que la encuesta se equivoque por más del 100%?\n",
        "- (a) Si el número de habitantes de la población es muchísimo mayor que n. [Rta: 0.0311]\n",
        "- (b) Si hay N = 5000 habitantes en la población. [Rta: 0.0239]\n",
        "- (c) ¿Cuántos habitantes N debería haber en la población para que los resultados entre (a) y (b) tuvieran una\n",
        "diferencia relativa menor al 0.1%? [Rta: N≃ 1.15 × 106]"
      ]
    },
    {
      "cell_type": "markdown",
      "id": "abed5b4e",
      "metadata": {
        "id": "abed5b4e"
      },
      "source": [
        "#### Solución\n",
        "\n",
        "**a)**\n",
        "\n",
        "Tenemos una bolsa llena de $N$ habitantes de dos tipos distintos: los que votan a $A$, y los que no $\\bar{A}$. Sacamos $n$ de esos $N$ habitantes para hacer una encuesta. Nos dicen que el número de habitantes $N$ es muchísimo mayor que $n$, eso quiere decir que no nos debemos preocupar por que cambie la probabilidad de sacar a un habitante que vota a $A$ dado que ya sacamos a un habitante que vota a $A$. Para que se entienda mejor doy un ejemplo:\n",
        "\n",
        "Supongamos que hay en total $N=3$ habitantes, uno quiere votar a $A$ y el resto no. Queremos hacer una encuesta con $n=2$ personas (muy lejos del límite que nos pide el ejercicio). Ahora supongamos que tenemos que elegir a los habitantes al azar para la encuesta. Hay $1/3$ de probabilidades de que el primer habitante que elegimos vote a $A$. Supongamos entonces que elegimos justo a ese. Ahora la probabilidad de que el segundo habitante vote a $A$ es 0! la probabilidad cambió rotundamente porque $n \\approx N$.\n",
        "\n",
        "Ahora en el caso contrario, supongamos $N=10^{100}$ y $n=10$. Supongamos que $10^{10}$ de los $N$ quieren votar a $A$ y el resto no. La probabilidad que el primer habitante que elegimos sea votante de $A$ es $\\frac{10^{10}}{10^{100}}$, y la probabilidad de que el segundo que elegimos también lo sea es $\\frac{10^{10} - 1}{10^{100}}$, pero estas probabilidades son prácticamente iguales.\n",
        "\n",
        "En conclusión: **cuando $N \\gt \\gt n$, la probabilidad de sacar a un votante determinado es independiente de haber sacado o no un votante determinado anteriormente.**\n",
        "\n",
        "Habiendo dicho esto, sabemos que tenemos un proceso en el cual el resultado es binario ($A$ o $\\bar{A}$), y además cada suceso es independiente del anterior. Es decir, tenemos una binomial:\n",
        "\n",
        "$$B(k \\mid n, p) = {n \\choose k} p^k (1-p)^{n-k},$$\n",
        "\n",
        "donde definimos $p=0.01$ la probabilidad de votar a $A$, $n=500$ la cantidad de encuestados, y $k$ la cantidad de encuestados que votan a $A$. Queremos saber la probabilidad de que el $2\\%$ o más de los encuestados voten a $A$, eso es la probabilidad de que, de los 500 encuestados, 10 ($0.02 \\times 500$) o más voten a $A$, es decir\n",
        "\n",
        "$$P(\\geq 2\\%) = \\sum_{k=10}^{k=500} B(k \\mid 500, 0.01),$$\n",
        "\n",
        "que lo podemos calcular con python:"
      ]
    },
    {
      "cell_type": "code",
      "execution_count": null,
      "id": "6f495de5",
      "metadata": {
        "id": "6f495de5"
      },
      "outputs": [],
      "source": [
        "from scipy.stats import binom, hypergeom, poisson"
      ]
    },
    {
      "cell_type": "code",
      "execution_count": null,
      "id": "0a507cc4",
      "metadata": {
        "id": "0a507cc4",
        "outputId": "0bc24992-7bf2-440f-87a8-694cad0abf6a"
      },
      "outputs": [
        {
          "name": "stdout",
          "output_type": "stream",
          "text": [
            "0.031102106648487893\n"
          ]
        }
      ],
      "source": [
        "N = 5000\n",
        "n = 500\n",
        "p = 0.01\n",
        "m = int(N * p)\n",
        "porcentaje_encuesta = 0.02\n",
        "max_encuesta = int(porcentaje_encuesta * n)\n",
        "rv = binom(n, p)\n",
        "p_binom = 1 - rv.cdf(max_encuesta - 1)\n",
        "print(p_binom) # Esto calcula la suma que escribí arriba"
      ]
    },
    {
      "cell_type": "markdown",
      "id": "5629e435",
      "metadata": {
        "id": "5629e435"
      },
      "source": [
        "**b)**\n",
        "\n",
        "Ahora nos dan un $N$ explícito, entonces deja de valer que es independiente sacar a uno que vote a $A$ que uno que no lo vote. Entonces tenemos el típico problema de la hipergeométrica: tenemos un total de $N$ sujetos, $m$ de un tipo y $N-m$ del otro tipo, y queremos saber cuál es la probabilidad de sacar $k$ de uno de los tipos, dado que sacamos un grupo aleatorio de $n$ de los $N$ sujeros.\n",
        "\n",
        "Para calcular eso contamos casos favorables sobre casos totales. La cantidad de grupos posibles que podemos hacer es ${ N \\choose n }$. Sabemos que el $1\\%$ de los $N$ votan a $A$, es decir $m=0.01 \\times N = 50$, entonces la hipergeométrica queda\n",
        "\n",
        "$$H(k \\mid N, n, m) = \\frac{ {m \\choose k} {N - m \\choose n - k} }{ {N \\choose n} },$$\n",
        "\n",
        "pero nosotros queremos saber la probabilidad de sacar 10 o más, es decir\n",
        "\n",
        "$$P( \\geq 2\\%) = \\sum_{k=10}^{k=N} H(k \\mid 5000, 500, 50).$$\n",
        "\n",
        "Lo calculamos con python:"
      ]
    },
    {
      "cell_type": "code",
      "execution_count": null,
      "id": "5b863bac",
      "metadata": {
        "id": "5b863bac",
        "outputId": "7b71e0ea-b9c0-45a2-d722-aa25c7156a6b"
      },
      "outputs": [
        {
          "name": "stdout",
          "output_type": "stream",
          "text": [
            "0.023915898992530216\n"
          ]
        }
      ],
      "source": [
        "rv = hypergeom(M=N, N=n, n=m)\n",
        "p_hypergeom = 1 - rv.cdf(9)\n",
        "print(p_hypergeom)"
      ]
    },
    {
      "cell_type": "markdown",
      "id": "75177fee",
      "metadata": {
        "id": "75177fee"
      },
      "source": [
        "**c)**\n"
      ]
    },
    {
      "cell_type": "code",
      "execution_count": null,
      "id": "fefde9e5",
      "metadata": {
        "id": "fefde9e5",
        "outputId": "beea4be5-4058-488c-9800-e9c13226fca8"
      },
      "outputs": [
        {
          "name": "stdout",
          "output_type": "stream",
          "text": [
            "1152000\n"
          ]
        }
      ],
      "source": [
        "while abs(p_binom - p_hypergeom)/p_binom > 0.001:\n",
        "    N += 1000\n",
        "    m = N * 0.01\n",
        "    p_hypergeom = 1 - hypergeom.cdf(k=9, M=N, N=n, n=m)\n",
        "print(N)"
      ]
    }
  ],
  "metadata": {
    "kernelspec": {
      "display_name": "Python 3 (ipykernel)",
      "language": "python",
      "name": "python3"
    },
    "language_info": {
      "codemirror_mode": {
        "name": "ipython",
        "version": 3
      },
      "file_extension": ".py",
      "mimetype": "text/x-python",
      "name": "python",
      "nbconvert_exporter": "python",
      "pygments_lexer": "ipython3",
      "version": "3.8.10"
    },
    "colab": {
      "provenance": []
    }
  },
  "nbformat": 4,
  "nbformat_minor": 5
}