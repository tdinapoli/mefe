{
 "cells": [
  {
   "cell_type": "code",
   "execution_count": 87,
   "id": "32e730a3",
   "metadata": {},
   "outputs": [],
   "source": [
    "import numpy as np\n",
    "import matplotlib.pyplot as plt"
   ]
  },
  {
   "cell_type": "markdown",
   "id": "c475b4d4",
   "metadata": {},
   "source": [
    "# 11)\n",
    "#### Considere un partido de truco entre cuatro jugadores que dura 15 manos. Encuentre la probabilidad de que:\n",
    "\n",
    "#### a) a un dado jugador nunca le toque el ancho de espadas [Rta: 0.31]\n",
    "\n",
    "#### b) el as de espadas no salga en todo el partido [Rta: 0.0047]"
   ]
  },
  {
   "cell_type": "markdown",
   "id": "ad3bb677",
   "metadata": {},
   "source": [
    "#### Solución:\n",
    "\n",
    "Primero lo hago para una mano. Una mano de un partido de truco de 4 personas sería un conjunto de 15 cartas donde no importa el orden. Puedo pensar a las cartas como números del 1 al 40, en ese caso, el conjunto de todas las posibles manos es\n",
    "$$\\Omega = \\{ (a_1, a_2, ... , a_{12}) \\mid a_i \\in [1, 40], a_i \\neq a_j \\forall i, j \\}$$\n",
    "entonces la cantidad de posibles manos es\n",
    "$$\\#\\Omega = 40 \\times 39 \\times ... \\times 29 = \\frac{40!}{28!}.$$\n",
    "\n",
    "Ahora, en caso de que salga el ancho **en toda la mano**, una de las cartas ya está definida. Si pienso que el ancho es la carta 1, entonces el conjunto de casos en los que sale el ancho es\n",
    "$$A = \\{ (1, a_2, a_3, \\ldots , a_{12}), (a_1, 1, a_3, \\ldots , a_{12}), \\ldots , (a_1, \\ldots , a_{11}, 1) \\mid a_i \\in [1, 40]\\}, a_i \\neq a_j \\forall i, j\\},$$\n",
    "así que el cardinal de A es\n",
    "$$\\#A = 12 \\times \\frac{39!}{28!},$$\n",
    "por lo que la probabilidad de que salga el ancho en una mano es\n",
    "$$P(A) = \\frac{\\#A}{\\#\\Omega} = \\frac{12}{40} = 0.3,$$\n",
    "que es lo esperado intuitivamente.\n",
    "\n",
    "Si lo simulo:"
   ]
  },
  {
   "cell_type": "code",
   "execution_count": 88,
   "id": "656397be",
   "metadata": {},
   "outputs": [
    {
     "name": "stdout",
     "output_type": "stream",
     "text": [
      "0.30306666666666665\n"
     ]
    }
   ],
   "source": [
    "def jugar_manos(n_manos, n_cartas, ancho=1):\n",
    "    manos = np.repeat(0, repeats=n_cartas*n_manos).reshape(n_manos, n_cartas)\n",
    "    for i in range(manos.shape[0]):\n",
    "        manos[i,:] = np.random.default_rng().choice(np.arange(1, 41), size=12, replace=False)\n",
    "    freq_ancho = np.sum(np.count_nonzero(manos == 1, axis=1))\n",
    "    return manos, freq_ancho/manos.shape[0]\n",
    "        \n",
    "n_manos = 15000\n",
    "n_cartas = 12\n",
    "manos, p_a = jugar_manos(n_manos, n_cartas)\n",
    "print(p_a)"
   ]
  },
  {
   "cell_type": "markdown",
   "id": "b5e02d72",
   "metadata": {},
   "source": [
    "Ahora hay que ver la probabilidad de sacar el ancho para una dada mano. La cantidad de posibles manos de 3 cartas esta dada por el cardinal del conjunto\n",
    "$$\\Omega_B = \\{(b_1, b_2, b_3) \\mid b_i \\in \\{a_i\\}_{i=1}^{i=12}, b_i \\neq b_j \\forall i, j \\},$$\n",
    "que es \n",
    "$$\\#\\Omega_B = 12 \\times 11 \\times 10.$$\n",
    "\n",
    "Si pedimos que aparezca el ancho (para esto se tiene que haber dado A) obtenemos el conjunto\n",
    "$$B = \\{ (1, b_2, b_3), (b_1, 1, b_3), (b_1, b_2, 1) \\mid b_i \\in \\{a_i\\}_{i=1}^{i=11}, b_i \\neq b_j \\forall i, j \\},$$\n",
    "que tiene cardinal \n",
    "$$\\#B = 3 \\times 11 \\times 10,$$\n",
    "por lo que la probabilidad de sacar el ancho dado que el ancho salió en la mano es\n",
    "$$P(B|A) = \\frac{\\#B}{\\#\\Omega_B} = 3/12 = 0.25.$$\n",
    "\n",
    "Podemos verificarlo numéricamente usando las manos que generamos antes:"
   ]
  },
  {
   "cell_type": "code",
   "execution_count": 89,
   "id": "4838aab0",
   "metadata": {},
   "outputs": [
    {
     "name": "stdout",
     "output_type": "stream",
     "text": [
      "0.24573058211709445\n"
     ]
    }
   ],
   "source": [
    "manos_con_ancho = manos[np.count_nonzero(manos == 1, axis=1) == 1]\n",
    "p_ba = np.sum(np.count_nonzero(manos_con_ancho[:, :3] == 1, axis=1))/manos_con_ancho.shape[0]\n",
    "print(freq_ancho_mano)"
   ]
  },
  {
   "cell_type": "markdown",
   "id": "b9e74404",
   "metadata": {},
   "source": [
    "Entonces, para que te toque el ancho en una mano, primero tenés que tener la suerte de que el ancho salga en la mano (P(A)), y luego, de que te toque a vos dado que salió en la mano (P(B|A)). Entonces, la probabilidad de que te toque el ancho en una mano es\n",
    "$$P(ancho) = P(B|A)P(A) = 0.25 \\times 0.3 = 0.075.$$\n",
    "\n",
    "Podemos verificarlo nuevamente con los mismos datos:"
   ]
  },
  {
   "cell_type": "code",
   "execution_count": 90,
   "id": "f137445a",
   "metadata": {},
   "outputs": [
    {
     "name": "stdout",
     "output_type": "stream",
     "text": [
      "0.07646666666666667\n"
     ]
    }
   ],
   "source": [
    "p_ancho = np.sum(np.count_nonzero(manos[:,:3] == 1, axis=1))/manos.shape[0]\n",
    "print(p_ancho)"
   ]
  },
  {
   "cell_type": "markdown",
   "id": "86905f16",
   "metadata": {},
   "source": [
    "Ahora, esa es la probabilidad de que a un dado jugador le toque el ancho de espadas en **una mano**. Por lo tanto, la probabilidad de que **no** le toque es \n",
    "$$\\tilde{P}(ancho)=1 - P(ancho) = 0.925.$$\n",
    "Entonces, la probabilidad de que **no** le toque en 15 manos, será\n",
    "$$\\tilde{P}(ancho)^{15} \\approx 0.31$$"
   ]
  },
  {
   "cell_type": "markdown",
   "id": "e83c4308",
   "metadata": {},
   "source": [
    "**b)**\n",
    "La probabilidad de que el ancho no salga en todo el partido es la probabilidad de que no salga en una mano, elevado a la 15:\n",
    "$$\\tilde{P}(A)^{15} = (1 - P(A))^{15} = 4.7 \\times 10^{-4}$$"
   ]
  }
 ],
 "metadata": {
  "kernelspec": {
   "display_name": "Python 3 (ipykernel)",
   "language": "python",
   "name": "python3"
  },
  "language_info": {
   "codemirror_mode": {
    "name": "ipython",
    "version": 3
   },
   "file_extension": ".py",
   "mimetype": "text/x-python",
   "name": "python",
   "nbconvert_exporter": "python",
   "pygments_lexer": "ipython3",
   "version": "3.8.10"
  }
 },
 "nbformat": 4,
 "nbformat_minor": 5
}
