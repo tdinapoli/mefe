{
 "cells": [
  {
   "cell_type": "code",
   "execution_count": 1,
   "id": "9560d1f9",
   "metadata": {},
   "outputs": [],
   "source": [
    "import numpy as np\n",
    "import matplotlib.pyplot as plt\n",
    "from scipy.stats import binom, hypergeom, poisson"
   ]
  },
  {
   "cell_type": "code",
   "execution_count": 2,
   "id": "b43fd83a",
   "metadata": {},
   "outputs": [
    {
     "name": "stdout",
     "output_type": "stream",
     "text": [
      "p \tes \t0.02\n",
      "1-p \tes \t0.98\n",
      "en 1000000 experimentos,\n",
      "p(exito) \t= \t0.019798\n",
      "p(fracaso) \t= \t0.980202\n"
     ]
    }
   ],
   "source": [
    "def bernoulli(n, p):\n",
    "    return (np.random.random(size=n) < p)*1\n",
    "\n",
    "def contar_exitos(experimentos):\n",
    "    return np.sum(experimentos)\n",
    "\n",
    "n = 1000000\n",
    "p = 0.02\n",
    "experimentos = bernoulli(n, p)\n",
    "exitos = contar_exitos(experimentos)\n",
    "fracasos = n - exitos \n",
    "print(f\"p \\tes \\t{p}\")\n",
    "print(f\"1-p \\tes \\t{1-p}\")\n",
    "print(f\"en {n} experimentos,\")\n",
    "print(f\"p(exito) \\t= \\t{exitos/n}\")\n",
    "print(f\"p(fracaso) \\t= \\t{fracasos/n}\") "
   ]
  },
  {
   "cell_type": "code",
   "execution_count": 3,
   "id": "1cec9ff4",
   "metadata": {},
   "outputs": [],
   "source": [
    "eficiencia = 0.75\n",
    "fotones = 15\n",
    "repeticiones = 1000\n",
    "experimentos = np.array([contar_exitos(bernoulli(fotones, eficiencia)) for i in range(repeticiones)])"
   ]
  },
  {
   "cell_type": "code",
   "execution_count": 4,
   "id": "bbd9e424",
   "metadata": {},
   "outputs": [
    {
     "name": "stdout",
     "output_type": "stream",
     "text": [
      "15\n"
     ]
    },
    {
     "data": {
      "image/png": "[encoded data removed]",
      "text/plain": [
       "<Figure size 432x288 with 1 Axes>"
      ]
     },
     "metadata": {
      "needs_background": "light"
     },
     "output_type": "display_data"
    }
   ],
   "source": [
    "rv = binom(fotones, eficiencia)\n",
    "freq_teo = np.array([rv.pmf(x) for x in range(fotones)])\n",
    "print(len(freq_teo))\n",
    "freq, bin_edges = np.histogram(experimentos,\n",
    "                             bins=range(fotones+1),\n",
    "                             density=True)\n",
    "plt.stairs(freq, bin_edges, fill=True, label=\"Experimental\")\n",
    "plt.stairs(freq_teo, bin_edges, linewidth=2,label=\"Teórico\")\n",
    "plt.legend()\n",
    "plt.show()"
   ]
  },
  {
   "cell_type": "code",
   "execution_count": 13,
   "id": "a775ef8b",
   "metadata": {},
   "outputs": [],
   "source": [
    "Dt= 1\n",
    "m = 1000\n",
    "dt = Dt/m\n",
    "I = 15\n",
    "emitidos = bernoulli(m, I*dt)"
   ]
  },
  {
   "cell_type": "code",
   "execution_count": 14,
   "id": "977e4cb7",
   "metadata": {},
   "outputs": [],
   "source": [
    "repeticiones = 1000\n",
    "experimentos = np.array([contar_exitos(bernoulli(m, I*dt)) for i in range(repeticiones)])"
   ]
  },
  {
   "cell_type": "code",
   "execution_count": 15,
   "id": "4e80c082",
   "metadata": {},
   "outputs": [
    {
     "data": {
      "image/png": "[encoded data removed]",
      "text/plain": [
       "<Figure size 432x288 with 1 Axes>"
      ]
     },
     "metadata": {
      "needs_background": "light"
     },
     "output_type": "display_data"
    }
   ],
   "source": [
    "rv = poisson(Dt*I)\n",
    "freq_teo = np.array([rv.pmf(x) for x in range(m)])\n",
    "freq, bin_edges = np.histogram(experimentos,\n",
    "                             bins=range(m+1),\n",
    "                             density=True)\n",
    "plt.stairs(freq, bin_edges, fill=True, label=\"Experimental\")\n",
    "plt.stairs(freq_teo, bin_edges, linewidth=2,label=\"Teórico\")\n",
    "plt.legend()\n",
    "plt.show()"
   ]
  },
  {
   "cell_type": "code",
   "execution_count": 16,
   "id": "34b73c1f",
   "metadata": {
    "scrolled": true
   },
   "outputs": [
    {
     "data": {
      "image/png": "[encoded data removed]",
      "text/plain": [
       "<Figure size 432x288 with 1 Axes>"
      ]
     },
     "metadata": {
      "needs_background": "light"
     },
     "output_type": "display_data"
    }
   ],
   "source": [
    "plt.stairs(freq, bin_edges, fill=True, label=\"Experimental\")\n",
    "plt.stairs(freq_teo, bin_edges, linewidth=2,label=\"Teórico\")\n",
    "plt.xlim([0,40])\n",
    "plt.legend()\n",
    "plt.show()"
   ]
  },
  {
   "cell_type": "code",
   "execution_count": null,
   "id": "f750b0ee",
   "metadata": {},
   "outputs": [],
   "source": []
  },
  {
   "cell_type": "code",
   "execution_count": null,
   "id": "8b1c27b4",
   "metadata": {},
   "outputs": [],
   "source": []
  }
 ],
 "metadata": {
  "kernelspec": {
   "display_name": "Python 3 (ipykernel)",
   "language": "python",
   "name": "python3"
  },
  "language_info": {
   "codemirror_mode": {
    "name": "ipython",
    "version": 3
   },
   "file_extension": ".py",
   "mimetype": "text/x-python",
   "name": "python",
   "nbconvert_exporter": "python",
   "pygments_lexer": "ipython3",
   "version": "3.8.10"
  }
 },
 "nbformat": 4,
 "nbformat_minor": 5
}
